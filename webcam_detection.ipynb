{
  "nbformat": 4,
  "nbformat_minor": 0,
  "metadata": {
    "colab": {
      "name": "webcam_detection.ipynb",
      "provenance": [],
      "collapsed_sections": [],
      "authorship_tag": "ABX9TyNQI1I1IaCPRxWRR/52wlKu",
      "include_colab_link": true
    },
    "kernelspec": {
      "name": "python3",
      "display_name": "Python 3"
    },
    "accelerator": "GPU"
  },
  "cells": [
    {
      "cell_type": "markdown",
      "metadata": {
        "id": "view-in-github",
        "colab_type": "text"
      },
      "source": [
        "<a href=\"https://colab.research.google.com/github/AlbinDavid/OCR/blob/master/webcam_detection.ipynb\" target=\"_parent\"><img src=\"https://colab.research.google.com/assets/colab-badge.svg\" alt=\"Open In Colab\"/></a>"
      ]
    },
    {
      "cell_type": "code",
      "metadata": {
        "id": "yIuTuVYmID01",
        "colab_type": "code",
        "colab": {
          "base_uri": "https://localhost:8080/",
          "height": 118
        },
        "outputId": "8e8dc98a-8835-4719-85f0-de51d68f3961"
      },
      "source": [
        "# install dependencies: \n",
        "!pip install pyyaml==5.1 pycocotools>=2.0.1\n",
        "\n",
        "import torch, torchvision\n",
        "print(torch.__version__, torch.cuda.is_available())\n",
        "!gcc --version\n",
        "# opencv is pre-installed on colab"
      ],
      "execution_count": 1,
      "outputs": [
        {
          "output_type": "stream",
          "text": [
            "1.6.0+cu101 True\n",
            "gcc (Ubuntu 7.5.0-3ubuntu1~18.04) 7.5.0\n",
            "Copyright (C) 2017 Free Software Foundation, Inc.\n",
            "This is free software; see the source for copying conditions.  There is NO\n",
            "warranty; not even for MERCHANTABILITY or FITNESS FOR A PARTICULAR PURPOSE.\n",
            "\n"
          ],
          "name": "stdout"
        }
      ]
    },
    {
      "cell_type": "code",
      "metadata": {
        "id": "qnDKEf-nIEwX",
        "colab_type": "code",
        "colab": {
          "base_uri": "https://localhost:8080/",
          "height": 826
        },
        "outputId": "0543f0cd-c79d-4f93-bd00-8507040b8623"
      },
      "source": [
        "# install detectron2: (Colab has CUDA 10.1 + torch 1.6)\n",
        "# See https://detectron2.readthedocs.io/tutorials/install.html for instructions\n",
        "assert torch.__version__.startswith(\"1.6\")\n",
        "!pip install detectron2 -f https://dl.fbaipublicfiles.com/detectron2/wheels/cu101/torch1.6/index.html"
      ],
      "execution_count": 2,
      "outputs": [
        {
          "output_type": "stream",
          "text": [
            "Looking in links: https://dl.fbaipublicfiles.com/detectron2/wheels/cu101/torch1.6/index.html\n",
            "Requirement already satisfied: detectron2 in /usr/local/lib/python3.6/dist-packages (0.2.1+cu101)\n",
            "Requirement already satisfied: pydot in /usr/local/lib/python3.6/dist-packages (from detectron2) (1.3.0)\n",
            "Requirement already satisfied: tqdm>4.29.0 in /usr/local/lib/python3.6/dist-packages (from detectron2) (4.41.1)\n",
            "Requirement already satisfied: mock in /usr/local/lib/python3.6/dist-packages (from detectron2) (4.0.2)\n",
            "Requirement already satisfied: matplotlib in /usr/local/lib/python3.6/dist-packages (from detectron2) (3.2.2)\n",
            "Requirement already satisfied: tensorboard in /usr/local/lib/python3.6/dist-packages (from detectron2) (2.3.0)\n",
            "Requirement already satisfied: future in /usr/local/lib/python3.6/dist-packages (from detectron2) (0.16.0)\n",
            "Requirement already satisfied: cloudpickle in /usr/local/lib/python3.6/dist-packages (from detectron2) (1.3.0)\n",
            "Requirement already satisfied: fvcore>=0.1.1 in /usr/local/lib/python3.6/dist-packages (from detectron2) (0.1.1.post20200716)\n",
            "Requirement already satisfied: yacs>=0.1.6 in /usr/local/lib/python3.6/dist-packages (from detectron2) (0.1.8)\n",
            "Requirement already satisfied: Pillow>=7.1 in /usr/local/lib/python3.6/dist-packages (from detectron2) (7.2.0)\n",
            "Requirement already satisfied: tabulate in /usr/local/lib/python3.6/dist-packages (from detectron2) (0.8.7)\n",
            "Requirement already satisfied: termcolor>=1.1 in /usr/local/lib/python3.6/dist-packages (from detectron2) (1.1.0)\n",
            "Requirement already satisfied: pycocotools>=2.0.1 in /usr/local/lib/python3.6/dist-packages (from detectron2) (2.0.1)\n",
            "Requirement already satisfied: pyparsing>=2.1.4 in /usr/local/lib/python3.6/dist-packages (from pydot->detectron2) (2.4.7)\n",
            "Requirement already satisfied: kiwisolver>=1.0.1 in /usr/local/lib/python3.6/dist-packages (from matplotlib->detectron2) (1.2.0)\n",
            "Requirement already satisfied: numpy>=1.11 in /usr/local/lib/python3.6/dist-packages (from matplotlib->detectron2) (1.18.5)\n",
            "Requirement already satisfied: cycler>=0.10 in /usr/local/lib/python3.6/dist-packages (from matplotlib->detectron2) (0.10.0)\n",
            "Requirement already satisfied: python-dateutil>=2.1 in /usr/local/lib/python3.6/dist-packages (from matplotlib->detectron2) (2.8.1)\n",
            "Requirement already satisfied: absl-py>=0.4 in /usr/local/lib/python3.6/dist-packages (from tensorboard->detectron2) (0.8.1)\n",
            "Requirement already satisfied: protobuf>=3.6.0 in /usr/local/lib/python3.6/dist-packages (from tensorboard->detectron2) (3.12.4)\n",
            "Requirement already satisfied: werkzeug>=0.11.15 in /usr/local/lib/python3.6/dist-packages (from tensorboard->detectron2) (1.0.1)\n",
            "Requirement already satisfied: google-auth<2,>=1.6.3 in /usr/local/lib/python3.6/dist-packages (from tensorboard->detectron2) (1.17.2)\n",
            "Requirement already satisfied: markdown>=2.6.8 in /usr/local/lib/python3.6/dist-packages (from tensorboard->detectron2) (3.2.2)\n",
            "Requirement already satisfied: setuptools>=41.0.0 in /usr/local/lib/python3.6/dist-packages (from tensorboard->detectron2) (49.6.0)\n",
            "Requirement already satisfied: six>=1.10.0 in /usr/local/lib/python3.6/dist-packages (from tensorboard->detectron2) (1.15.0)\n",
            "Requirement already satisfied: wheel>=0.26; python_version >= \"3\" in /usr/local/lib/python3.6/dist-packages (from tensorboard->detectron2) (0.35.1)\n",
            "Requirement already satisfied: tensorboard-plugin-wit>=1.6.0 in /usr/local/lib/python3.6/dist-packages (from tensorboard->detectron2) (1.7.0)\n",
            "Requirement already satisfied: grpcio>=1.24.3 in /usr/local/lib/python3.6/dist-packages (from tensorboard->detectron2) (1.31.0)\n",
            "Requirement already satisfied: requests<3,>=2.21.0 in /usr/local/lib/python3.6/dist-packages (from tensorboard->detectron2) (2.23.0)\n",
            "Requirement already satisfied: google-auth-oauthlib<0.5,>=0.4.1 in /usr/local/lib/python3.6/dist-packages (from tensorboard->detectron2) (0.4.1)\n",
            "Requirement already satisfied: pyyaml>=5.1 in /usr/local/lib/python3.6/dist-packages (from fvcore>=0.1.1->detectron2) (5.1)\n",
            "Requirement already satisfied: portalocker in /usr/local/lib/python3.6/dist-packages (from fvcore>=0.1.1->detectron2) (2.0.0)\n",
            "Requirement already satisfied: cython>=0.27.3 in /usr/local/lib/python3.6/dist-packages (from pycocotools>=2.0.1->detectron2) (0.29.21)\n",
            "Requirement already satisfied: pyasn1-modules>=0.2.1 in /usr/local/lib/python3.6/dist-packages (from google-auth<2,>=1.6.3->tensorboard->detectron2) (0.2.8)\n",
            "Requirement already satisfied: rsa<5,>=3.1.4; python_version >= \"3\" in /usr/local/lib/python3.6/dist-packages (from google-auth<2,>=1.6.3->tensorboard->detectron2) (4.6)\n",
            "Requirement already satisfied: cachetools<5.0,>=2.0.0 in /usr/local/lib/python3.6/dist-packages (from google-auth<2,>=1.6.3->tensorboard->detectron2) (4.1.1)\n",
            "Requirement already satisfied: importlib-metadata; python_version < \"3.8\" in /usr/local/lib/python3.6/dist-packages (from markdown>=2.6.8->tensorboard->detectron2) (1.7.0)\n",
            "Requirement already satisfied: chardet<4,>=3.0.2 in /usr/local/lib/python3.6/dist-packages (from requests<3,>=2.21.0->tensorboard->detectron2) (3.0.4)\n",
            "Requirement already satisfied: certifi>=2017.4.17 in /usr/local/lib/python3.6/dist-packages (from requests<3,>=2.21.0->tensorboard->detectron2) (2020.6.20)\n",
            "Requirement already satisfied: urllib3!=1.25.0,!=1.25.1,<1.26,>=1.21.1 in /usr/local/lib/python3.6/dist-packages (from requests<3,>=2.21.0->tensorboard->detectron2) (1.24.3)\n",
            "Requirement already satisfied: idna<3,>=2.5 in /usr/local/lib/python3.6/dist-packages (from requests<3,>=2.21.0->tensorboard->detectron2) (2.10)\n",
            "Requirement already satisfied: requests-oauthlib>=0.7.0 in /usr/local/lib/python3.6/dist-packages (from google-auth-oauthlib<0.5,>=0.4.1->tensorboard->detectron2) (1.3.0)\n",
            "Requirement already satisfied: pyasn1<0.5.0,>=0.4.6 in /usr/local/lib/python3.6/dist-packages (from pyasn1-modules>=0.2.1->google-auth<2,>=1.6.3->tensorboard->detectron2) (0.4.8)\n",
            "Requirement already satisfied: zipp>=0.5 in /usr/local/lib/python3.6/dist-packages (from importlib-metadata; python_version < \"3.8\"->markdown>=2.6.8->tensorboard->detectron2) (3.1.0)\n",
            "Requirement already satisfied: oauthlib>=3.0.0 in /usr/local/lib/python3.6/dist-packages (from requests-oauthlib>=0.7.0->google-auth-oauthlib<0.5,>=0.4.1->tensorboard->detectron2) (3.1.0)\n"
          ],
          "name": "stdout"
        }
      ]
    },
    {
      "cell_type": "code",
      "metadata": {
        "id": "GmajH16EIGUH",
        "colab_type": "code",
        "colab": {}
      },
      "source": [
        "# Some basic setup:\n",
        "# Setup detectron2 logger\n",
        "import detectron2\n",
        "from detectron2.utils.logger import setup_logger\n",
        "setup_logger()\n",
        "\n",
        "# import some common libraries\n",
        "import numpy as np\n",
        "import os, json, cv2, random\n",
        "from google.colab.patches import cv2_imshow\n",
        "\n",
        "# import some common detectron2 utilities\n",
        "from detectron2 import model_zoo\n",
        "from detectron2.engine import DefaultPredictor\n",
        "from detectron2.config import get_cfg\n",
        "from detectron2.utils.visualizer import Visualizer\n",
        "from IPython.display import display, Javascript\n",
        "from google.colab.output import eval_js\n",
        "from base64 import b64decode\n",
        "import IPython\n",
        "import time\n",
        "import sys\n",
        "import numpy as np\n",
        "import cv2\n",
        "import base64\n",
        "import logging\n",
        "from google.colab import output\n",
        "from PIL import Image\n",
        "from io import BytesIO\n",
        "classes_dict={0:\"person\",67:\"mobile\"}"
      ],
      "execution_count": 26,
      "outputs": []
    },
    {
      "cell_type": "code",
      "metadata": {
        "id": "kma5cB-CTx4H",
        "colab_type": "code",
        "colab": {}
      },
      "source": [
        "def data_uri_to_img(uri):\n",
        "    \"\"\"convert base64 image to numpy array\"\"\"\n",
        "    try:\n",
        "        image = base64.b64decode(uri.split(',')[1], validate=True)\n",
        "        # make the binary image, a PIL image\n",
        "        image = Image.open(BytesIO(image))\n",
        "        # convert to numpy array\n",
        "        image = np.array(image, dtype=np.uint8); \n",
        "        return image\n",
        "    except Exception as e:\n",
        "        logging.exception(e);print('\\n')\n",
        "        return None"
      ],
      "execution_count": 27,
      "outputs": []
    },
    {
      "cell_type": "code",
      "metadata": {
        "id": "s1aDNAsTSDjZ",
        "colab_type": "code",
        "colab": {}
      },
      "source": [
        "def run_algo(imgB64):\n",
        "    \"\"\"\n",
        "    in Colab, run_algo function gets invoked by the JavaScript, \n",
        "    that sends N images every second, one at a time.\n",
        "    params:\n",
        "        image: image\n",
        "    \"\"\"\n",
        "    image = data_uri_to_img(imgB64)  \n",
        "    if image is None:\n",
        "        print(\"At run_algo(): image is None.\")\n",
        "        return\n",
        "\n",
        "    try:\n",
        "        cfg = get_cfg()\n",
        "        # add project-specific config (e.g., TensorMask) here if you're not running a model in detectron2's core library\n",
        "        cfg.merge_from_file(model_zoo.get_config_file(\"COCO-InstanceSegmentation/mask_rcnn_R_50_FPN_3x.yaml\"))\n",
        "        cfg.MODEL.ROI_HEADS.SCORE_THRESH_TEST = 0.5  # set threshold for this model\n",
        "        # Find a model from detectron2's model zoo. You can use the https://dl.fbaipublicfiles... url as well\n",
        "        cfg.MODEL.WEIGHTS = model_zoo.get_checkpoint_url(\"COCO-InstanceSegmentation/mask_rcnn_R_50_FPN_3x.yaml\")\n",
        "        predictor = DefaultPredictor(cfg)\n",
        "        outputs = predictor(image)\n",
        "        # print(outputs[\"instances\"].pred_classes)\n",
        "        predicted_boxes = outputs[\"instances\"].pred_boxes\n",
        "        classes_list = outputs[\"instances\"].pred_classes.tolist()\n",
        "        for index,i in enumerate(classes_list):\n",
        "            try:\n",
        "              predicted_class = classes_dict[i]\n",
        "              print(\"Detected \",predicted_class,\" at \",predicted_boxes[index])\n",
        "            except:\n",
        "              pass\n",
        "    except Exception as e:\n",
        "        logging.exception(e)\n",
        "        print('\\n')\n",
        "\n",
        "\n",
        "output.register_callback('notebook.run_algo', run_algo)"
      ],
      "execution_count": 28,
      "outputs": []
    },
    {
      "cell_type": "code",
      "metadata": {
        "id": "v4INwZdXII29",
        "colab_type": "code",
        "colab": {
          "base_uri": "https://localhost:8080/",
          "height": 1000
        },
        "outputId": "9f7bc5bb-8bb6-471f-9f71-73a75769aae2"
      },
      "source": [
        "\n",
        "\n",
        "\n",
        "def take_photo(filename='photo.jpg', quality=0.8):\n",
        "    js = Javascript('''\n",
        "        async function takePhoto(quality) {\n",
        "    // create html elements\n",
        "    const div = document.createElement('div');\n",
        "    const video = document.createElement('video');\n",
        "    video.style.display = 'block';\n",
        "\n",
        "    // request the stream. This will ask for Permission to access \n",
        "    // a connected Camera/Webcam\n",
        "    const stream = await navigator.mediaDevices.getUserMedia({video: true});\n",
        "\n",
        "    // show the HTML elements\n",
        "    document.body.appendChild(div);\n",
        "    div.appendChild(video);\n",
        "    // display the stream\n",
        "    video.srcObject = stream;\n",
        "    await video.play();\n",
        "\n",
        "    // Resize the output (of Colab Notebook Cell) to fit the video element.\n",
        "    google.colab.output.setIframeHeight(document.documentElement.scrollHeight, true);\n",
        "\n",
        "    // capture 5 frames (for test)\n",
        "    for (let i = 0; i < 100; i++) {\n",
        "        const canvas = document.createElement('canvas');\n",
        "        canvas.width = video.videoWidth;\n",
        "        canvas.height = video.videoHeight;\n",
        "        canvas.getContext('2d').drawImage(video, 0, 0);\n",
        "        img = canvas.toDataURL('image/jpeg', quality);\n",
        "\n",
        "        // Call a python function and send this image\n",
        "        google.colab.kernel.invokeFunction('notebook.run_algo', [img], {});\n",
        "\n",
        "        // wait for X miliseconds second, before next capture\n",
        "        await new Promise(resolve => setTimeout(resolve, 250));\n",
        "    }\n",
        "\n",
        "    stream.getVideoTracks()[0].stop(); // stop video stream\n",
        "}\n",
        "        ''')\n",
        "    # make the provided HTML, part of the cell\n",
        "    display(js) \n",
        "    # call the takePhoto() JavaScript function\n",
        "    data = eval_js('takePhoto({})'.format(quality)) \n",
        "\n",
        "take_photo()"
      ],
      "execution_count": 29,
      "outputs": [
        {
          "output_type": "display_data",
          "data": {
            "application/javascript": [
              "\n",
              "        async function takePhoto(quality) {\n",
              "    // create html elements\n",
              "    const div = document.createElement('div');\n",
              "    const video = document.createElement('video');\n",
              "    video.style.display = 'block';\n",
              "\n",
              "    // request the stream. This will ask for Permission to access \n",
              "    // a connected Camera/Webcam\n",
              "    const stream = await navigator.mediaDevices.getUserMedia({video: true});\n",
              "\n",
              "    // show the HTML elements\n",
              "    document.body.appendChild(div);\n",
              "    div.appendChild(video);\n",
              "    // display the stream\n",
              "    video.srcObject = stream;\n",
              "    await video.play();\n",
              "\n",
              "    // Resize the output (of Colab Notebook Cell) to fit the video element.\n",
              "    google.colab.output.setIframeHeight(document.documentElement.scrollHeight, true);\n",
              "\n",
              "    // capture 5 frames (for test)\n",
              "    for (let i = 0; i < 100; i++) {\n",
              "        const canvas = document.createElement('canvas');\n",
              "        canvas.width = video.videoWidth;\n",
              "        canvas.height = video.videoHeight;\n",
              "        canvas.getContext('2d').drawImage(video, 0, 0);\n",
              "        img = canvas.toDataURL('image/jpeg', quality);\n",
              "\n",
              "        // Call a python function and send this image\n",
              "        google.colab.kernel.invokeFunction('notebook.run_algo', [img], {});\n",
              "\n",
              "        // wait for X miliseconds second, before next capture\n",
              "        await new Promise(resolve => setTimeout(resolve, 250));\n",
              "    }\n",
              "\n",
              "    stream.getVideoTracks()[0].stop(); // stop video stream\n",
              "}\n",
              "        "
            ],
            "text/plain": [
              "<IPython.core.display.Javascript object>"
            ]
          },
          "metadata": {
            "tags": []
          }
        },
        {
          "output_type": "stream",
          "text": [
            "Detected  person  at  Boxes(tensor([[188.9810, 209.0856, 546.2219, 478.9264]], device='cuda:0'))\n",
            "Detected  person  at  Boxes(tensor([[ 21.6475,   7.8983, 542.1993, 474.1400]], device='cuda:0'))\n",
            "Detected  person  at  Boxes(tensor([[  4.4938, 192.3740, 354.2171, 466.8879]], device='cuda:0'))\n",
            "Detected  person  at  Boxes(tensor([[  0.0000,  85.4691, 559.8842, 477.2065]], device='cuda:0'))\n",
            "Detected  person  at  Boxes(tensor([[  0.0000, 100.4419, 553.7832, 473.3087]], device='cuda:0'))\n",
            "Detected  person  at  Boxes(tensor([[1.5120e-01, 1.7525e+02, 6.2904e+02, 4.7453e+02]], device='cuda:0'))\n",
            "Detected  person  at  Boxes(tensor([[  0.0000, 194.9566, 561.2238, 473.0497]], device='cuda:0'))\n",
            "Detected  person  at  Boxes(tensor([[  2.0202,  68.2283, 578.2250, 480.0000]], device='cuda:0'))\n",
            "Detected  person  at  Boxes(tensor([[  0.0000,  71.0537, 514.4730, 472.8480]], device='cuda:0'))\n",
            "Detected  person  at  Boxes(tensor([[  2.6431,  65.6740, 497.6150, 474.5148]], device='cuda:0'))\n",
            "Detected  person  at  Boxes(tensor([[  1.2697,  85.7593, 517.8441, 476.5201]], device='cuda:0'))\n",
            "Detected  mobile  at  Boxes(tensor([[154.0245, 330.1138, 314.1184, 474.3576]], device='cuda:0'))\n",
            "Detected  person  at  Boxes(tensor([[  0.0000, 316.7438, 317.0595, 474.8197]], device='cuda:0'))\n",
            "Detected  mobile  at  Boxes(tensor([[ 84.5841, 359.3117, 278.9557, 479.6331]], device='cuda:0'))\n",
            "Detected  person  at  Boxes(tensor([[  0.0000,  84.7484, 595.0757, 474.3042]], device='cuda:0'))\n",
            "Detected  person  at  Boxes(tensor([[ 40.9334,  85.9923, 630.4039, 475.7370]], device='cuda:0'))\n",
            "Detected  person  at  Boxes(tensor([[  0.0000, 105.1906, 570.1823, 474.4588]], device='cuda:0'))\n",
            "Detected  person  at  Boxes(tensor([[ 16.5492, 333.7924, 262.9900, 477.6378]], device='cuda:0'))\n",
            "Detected  person  at  Boxes(tensor([[ 20.8713, 194.6240, 240.2276, 474.0401]], device='cuda:0'))\n",
            "Detected  person  at  Boxes(tensor([[  5.7283, 195.3130, 200.9358, 470.6808]], device='cuda:0'))\n",
            "Detected  person  at  Boxes(tensor([[  0.0000, 340.8394, 318.4659, 478.2668]], device='cuda:0'))\n",
            "Detected  person  at  Boxes(tensor([[ 18.9250, 275.7390, 270.0081, 476.4998]], device='cuda:0'))\n",
            "Detected  person  at  Boxes(tensor([[  7.0859, 315.5377, 406.0689, 474.7294]], device='cuda:0'))\n",
            "Detected  person  at  Boxes(tensor([[  0.0000,  90.6631, 533.8650, 472.1707]], device='cuda:0'))\n",
            "Detected  person  at  Boxes(tensor([[ 71.9043, 184.8811, 636.8890, 473.3770]], device='cuda:0'))\n",
            "Detected  person  at  Boxes(tensor([[  0.0000, 153.0751, 634.2511, 471.9557]], device='cuda:0'))\n",
            "Detected  person  at  Boxes(tensor([[370.9777,  97.3385, 485.7470, 304.2900]], device='cuda:0'))\n",
            "Detected  person  at  Boxes(tensor([[386.1293, 107.7915, 499.6240, 312.5775]], device='cuda:0'))\n",
            "Detected  person  at  Boxes(tensor([[381.8914, 109.9813, 498.6542, 310.7743]], device='cuda:0'))\n",
            "Detected  person  at  Boxes(tensor([[374.0476, 107.8651, 497.7026, 313.0442]], device='cuda:0'))\n",
            "Detected  person  at  Boxes(tensor([[379.9709, 109.2792, 500.0562, 314.5945]], device='cuda:0'))\n",
            "Detected  person  at  Boxes(tensor([[383.9580, 109.1156, 497.0676, 307.9301]], device='cuda:0'))\n"
          ],
          "name": "stdout"
        }
      ]
    },
    {
      "cell_type": "code",
      "metadata": {
        "id": "aOtV9B-cThJ2",
        "colab_type": "code",
        "colab": {}
      },
      "source": [
        ""
      ],
      "execution_count": null,
      "outputs": []
    },
    {
      "cell_type": "code",
      "metadata": {
        "id": "lAuwV1XGIp_c",
        "colab_type": "code",
        "colab": {}
      },
      "source": [
        ""
      ],
      "execution_count": null,
      "outputs": []
    }
  ]
}